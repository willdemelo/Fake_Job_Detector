{
 "cells": [
  {
   "cell_type": "markdown",
   "id": "ee4813a3",
   "metadata": {},
   "source": [
    "# Preliminary Steps"
   ]
  },
  {
   "cell_type": "code",
   "execution_count": 2,
   "id": "b4118792",
   "metadata": {},
   "outputs": [
    {
     "name": "stderr",
     "output_type": "stream",
     "text": [
      "[nltk_data] Error loading stopwords: <urlopen error [Errno 8] nodename\n",
      "[nltk_data]     nor servname provided, or not known>\n"
     ]
    }
   ],
   "source": [
    "import pandas as pd\n",
    "import numpy as np\n",
    "from sklearn.model_selection import train_test_split, GridSearchCV\n",
    "from sklearn.feature_extraction.text import TfidfVectorizer\n",
    "from sklearn.preprocessing import StandardScaler, OneHotEncoder\n",
    "from sklearn.compose import ColumnTransformer\n",
    "from sklearn.pipeline import Pipeline\n",
    "from sklearn.svm import SVC\n",
    "from sklearn.metrics import classification_report, confusion_matrix, roc_auc_score, accuracy_score, roc_curve, precision_recall_curve\n",
    "import matplotlib.pyplot as plt\n",
    "# import seaborn as sns\n",
    "import nltk\n",
    "from nltk.corpus import stopwords\n",
    "from nltk.stem import PorterStemmer\n",
    "from nltk.probability import FreqDist\n",
    "nltk.download('stopwords')\n",
    "import string\n",
    "# from torchtext.data.utils import get_tokenizer\n",
    "from nltk.tokenize import word_tokenize\n",
    "from wordcloud import WordCloud"
   ]
  },
  {
   "cell_type": "code",
   "execution_count": 3,
   "id": "c9fcd4e0",
   "metadata": {},
   "outputs": [
    {
     "data": {
      "text/html": [
       "<div>\n",
       "<style scoped>\n",
       "    .dataframe tbody tr th:only-of-type {\n",
       "        vertical-align: middle;\n",
       "    }\n",
       "\n",
       "    .dataframe tbody tr th {\n",
       "        vertical-align: top;\n",
       "    }\n",
       "\n",
       "    .dataframe thead th {\n",
       "        text-align: right;\n",
       "    }\n",
       "</style>\n",
       "<table border=\"1\" class=\"dataframe\">\n",
       "  <thead>\n",
       "    <tr style=\"text-align: right;\">\n",
       "      <th></th>\n",
       "      <th>job_id</th>\n",
       "      <th>title</th>\n",
       "      <th>location</th>\n",
       "      <th>department</th>\n",
       "      <th>salary_range</th>\n",
       "      <th>company_profile</th>\n",
       "      <th>description</th>\n",
       "      <th>requirements</th>\n",
       "      <th>benefits</th>\n",
       "      <th>telecommuting</th>\n",
       "      <th>has_company_logo</th>\n",
       "      <th>has_questions</th>\n",
       "      <th>employment_type</th>\n",
       "      <th>required_experience</th>\n",
       "      <th>required_education</th>\n",
       "      <th>industry</th>\n",
       "      <th>function</th>\n",
       "      <th>fraudulent</th>\n",
       "    </tr>\n",
       "  </thead>\n",
       "  <tbody>\n",
       "    <tr>\n",
       "      <th>0</th>\n",
       "      <td>1</td>\n",
       "      <td>Marketing Intern</td>\n",
       "      <td>US, NY, New York</td>\n",
       "      <td>Marketing</td>\n",
       "      <td>NaN</td>\n",
       "      <td>We're Food52, and we've created a groundbreaki...</td>\n",
       "      <td>Food52, a fast-growing, James Beard Award-winn...</td>\n",
       "      <td>Experience with content management systems a m...</td>\n",
       "      <td>NaN</td>\n",
       "      <td>0</td>\n",
       "      <td>1</td>\n",
       "      <td>0</td>\n",
       "      <td>Other</td>\n",
       "      <td>Internship</td>\n",
       "      <td>NaN</td>\n",
       "      <td>NaN</td>\n",
       "      <td>Marketing</td>\n",
       "      <td>0</td>\n",
       "    </tr>\n",
       "    <tr>\n",
       "      <th>1</th>\n",
       "      <td>2</td>\n",
       "      <td>Customer Service - Cloud Video Production</td>\n",
       "      <td>NZ, , Auckland</td>\n",
       "      <td>Success</td>\n",
       "      <td>NaN</td>\n",
       "      <td>90 Seconds, the worlds Cloud Video Production ...</td>\n",
       "      <td>Organised - Focused - Vibrant - Awesome!Do you...</td>\n",
       "      <td>What we expect from you:Your key responsibilit...</td>\n",
       "      <td>What you will get from usThrough being part of...</td>\n",
       "      <td>0</td>\n",
       "      <td>1</td>\n",
       "      <td>0</td>\n",
       "      <td>Full-time</td>\n",
       "      <td>Not Applicable</td>\n",
       "      <td>NaN</td>\n",
       "      <td>Marketing and Advertising</td>\n",
       "      <td>Customer Service</td>\n",
       "      <td>0</td>\n",
       "    </tr>\n",
       "    <tr>\n",
       "      <th>2</th>\n",
       "      <td>3</td>\n",
       "      <td>Commissioning Machinery Assistant (CMA)</td>\n",
       "      <td>US, IA, Wever</td>\n",
       "      <td>NaN</td>\n",
       "      <td>NaN</td>\n",
       "      <td>Valor Services provides Workforce Solutions th...</td>\n",
       "      <td>Our client, located in Houston, is actively se...</td>\n",
       "      <td>Implement pre-commissioning and commissioning ...</td>\n",
       "      <td>NaN</td>\n",
       "      <td>0</td>\n",
       "      <td>1</td>\n",
       "      <td>0</td>\n",
       "      <td>NaN</td>\n",
       "      <td>NaN</td>\n",
       "      <td>NaN</td>\n",
       "      <td>NaN</td>\n",
       "      <td>NaN</td>\n",
       "      <td>0</td>\n",
       "    </tr>\n",
       "  </tbody>\n",
       "</table>\n",
       "</div>"
      ],
      "text/plain": [
       "   job_id                                      title          location  \\\n",
       "0       1                           Marketing Intern  US, NY, New York   \n",
       "1       2  Customer Service - Cloud Video Production    NZ, , Auckland   \n",
       "2       3    Commissioning Machinery Assistant (CMA)     US, IA, Wever   \n",
       "\n",
       "  department salary_range                                    company_profile  \\\n",
       "0  Marketing          NaN  We're Food52, and we've created a groundbreaki...   \n",
       "1    Success          NaN  90 Seconds, the worlds Cloud Video Production ...   \n",
       "2        NaN          NaN  Valor Services provides Workforce Solutions th...   \n",
       "\n",
       "                                         description  \\\n",
       "0  Food52, a fast-growing, James Beard Award-winn...   \n",
       "1  Organised - Focused - Vibrant - Awesome!Do you...   \n",
       "2  Our client, located in Houston, is actively se...   \n",
       "\n",
       "                                        requirements  \\\n",
       "0  Experience with content management systems a m...   \n",
       "1  What we expect from you:Your key responsibilit...   \n",
       "2  Implement pre-commissioning and commissioning ...   \n",
       "\n",
       "                                            benefits  telecommuting  \\\n",
       "0                                                NaN              0   \n",
       "1  What you will get from usThrough being part of...              0   \n",
       "2                                                NaN              0   \n",
       "\n",
       "   has_company_logo  has_questions employment_type required_experience  \\\n",
       "0                 1              0           Other          Internship   \n",
       "1                 1              0       Full-time      Not Applicable   \n",
       "2                 1              0             NaN                 NaN   \n",
       "\n",
       "  required_education                   industry          function  fraudulent  \n",
       "0                NaN                        NaN         Marketing           0  \n",
       "1                NaN  Marketing and Advertising  Customer Service           0  \n",
       "2                NaN                        NaN               NaN           0  "
      ]
     },
     "execution_count": 3,
     "metadata": {},
     "output_type": "execute_result"
    }
   ],
   "source": [
    "df = pd.read_csv('fake_job_postings.csv')\n",
    "df.head(3)"
   ]
  },
  {
   "cell_type": "code",
   "execution_count": 4,
   "id": "b1925e1e",
   "metadata": {},
   "outputs": [
    {
     "data": {
      "text/plain": [
       "0.8395973154362416"
      ]
     },
     "execution_count": 4,
     "metadata": {},
     "output_type": "execute_result"
    }
   ],
   "source": [
    "df['salary_range'].isna().sum()/len(df['salary_range'])"
   ]
  },
  {
   "cell_type": "markdown",
   "id": "d0501e54",
   "metadata": {},
   "source": [
    "# Data Cleaning"
   ]
  },
  {
   "cell_type": "code",
   "execution_count": 5,
   "id": "05bb657f",
   "metadata": {},
   "outputs": [],
   "source": [
    "def preprocessor(sentences):\n",
    "\n",
    "    # Necessary steps - calls specific items used for preprocessing functions\n",
    "    processed_sentences = []\n",
    "    translator = str.maketrans('', '', string.punctuation)\n",
    "    # tokenizer = get_tokenizer(\"basic_english\")\n",
    "    stop_words = set(stopwords.words('english'))\n",
    "    stemmer = PorterStemmer()\n",
    "\n",
    "    # Preprocessing steps (non-essential steps can be removed)\n",
    "    for sentence in sentences:\n",
    "\n",
    "        # Turns all words lowercase\n",
    "        sentence = sentence.lower()\n",
    "\n",
    "        # Removes punctuation\n",
    "        pl_sentence = sentence.translate(translator)\n",
    "\n",
    "        # Tokenizes sentence\n",
    "        tokens = word_tokenize(pl_sentence)\n",
    "\n",
    "        # Removes stopwords\n",
    "        sw_tokens = [token for token in tokens if token not in stop_words]\n",
    "\n",
    "        # # Stems words\n",
    "        st_tokens = [stemmer.stem(token) for token in sw_tokens]\n",
    "\n",
    "        # # Removes uncommon words\n",
    "        # freq_dist = FreqDist(tokens)\n",
    "        # threshold = 1\n",
    "        # fq_tokens = [token for token in tokens if freq_dist[token] > threshold]\n",
    "\n",
    "        processed_sentences.append(\" \".join(st_tokens))\n",
    "    return processed_sentences"
   ]
  },
  {
   "cell_type": "code",
   "execution_count": 6,
   "id": "17bea0d5",
   "metadata": {},
   "outputs": [],
   "source": [
    "# Remove duplicates\n",
    "df = df.drop_duplicates()\n",
    "\n",
    "# # Get salary data: range (distance between proposed salaries) and average (mean of proposed salaries)\n",
    "# salary = []\n",
    "# for item in df['salary_range']:\n",
    "#     try:\n",
    "#         x = item.split(\"-\")\n",
    "#         x[0] = int(x[0])\n",
    "#         x[1] = int(x[1])\n",
    "#         salary.append(x)\n",
    "#     except:\n",
    "#         salary.append([np.nan, np.nan])\n",
    "# # Range variable\n",
    "# salary_rng = []\n",
    "# # Average variable\n",
    "# salary_avg = []\n",
    "# for item in salary:\n",
    "#     try:\n",
    "#         salary_rng.append(abs(item[0]-item[1]))\n",
    "#         salary_avg.append((item[0]+item[1])/2)\n",
    "#     except:\n",
    "#         salary_rng.append(np.nan)\n",
    "#         salary_avg.append(np.nan)\n",
    "# df['salary_rng'] = salary_rng\n",
    "# df['salary_avg'] = salary_avg\n",
    "\n",
    "# Get country variable: country denoted in job posting:\n",
    "countries = []\n",
    "for item in df['location']:\n",
    "    try:\n",
    "        countries.append(item.split(\",\")[0])\n",
    "    except:\n",
    "        countries.append(np.nan)\n",
    "df['country'] = countries\n",
    "\n",
    "# Clean text data\n",
    "text_features = ['title', 'description', 'company_profile', 'requirements', 'benefits']\n",
    "for item in text_features:\n",
    "    df[item] = df[item].fillna('')\n",
    "    df[item] = preprocessor(df[item])\n",
    "\n",
    "# Clean categorical data\n",
    "categorical_features = ['country', 'employment_type', 'required_experience', 'required_education', 'industry', 'function']\n",
    "for item in categorical_features:\n",
    "    df[item] = df[item].fillna('Unknown')\n",
    "    df[item] = [entry.lower() for entry in df[item]]"
   ]
  },
  {
   "cell_type": "code",
   "execution_count": 7,
   "id": "52c7ac39",
   "metadata": {},
   "outputs": [
    {
     "name": "stdout",
     "output_type": "stream",
     "text": [
      "(17880, 15)\n"
     ]
    },
    {
     "data": {
      "text/html": [
       "<div>\n",
       "<style scoped>\n",
       "    .dataframe tbody tr th:only-of-type {\n",
       "        vertical-align: middle;\n",
       "    }\n",
       "\n",
       "    .dataframe tbody tr th {\n",
       "        vertical-align: top;\n",
       "    }\n",
       "\n",
       "    .dataframe thead th {\n",
       "        text-align: right;\n",
       "    }\n",
       "</style>\n",
       "<table border=\"1\" class=\"dataframe\">\n",
       "  <thead>\n",
       "    <tr style=\"text-align: right;\">\n",
       "      <th></th>\n",
       "      <th>title</th>\n",
       "      <th>company_profile</th>\n",
       "      <th>description</th>\n",
       "      <th>requirements</th>\n",
       "      <th>benefits</th>\n",
       "      <th>telecommuting</th>\n",
       "      <th>has_company_logo</th>\n",
       "      <th>has_questions</th>\n",
       "      <th>employment_type</th>\n",
       "      <th>required_experience</th>\n",
       "      <th>required_education</th>\n",
       "      <th>industry</th>\n",
       "      <th>function</th>\n",
       "      <th>fraudulent</th>\n",
       "      <th>country</th>\n",
       "    </tr>\n",
       "  </thead>\n",
       "  <tbody>\n",
       "    <tr>\n",
       "      <th>0</th>\n",
       "      <td>market intern</td>\n",
       "      <td>food52 weve creat groundbreak awardwin cook si...</td>\n",
       "      <td>food52 fastgrow jame beard awardwin onlin food...</td>\n",
       "      <td>experi content manag system major plu blog cou...</td>\n",
       "      <td></td>\n",
       "      <td>0</td>\n",
       "      <td>1</td>\n",
       "      <td>0</td>\n",
       "      <td>other</td>\n",
       "      <td>internship</td>\n",
       "      <td>unknown</td>\n",
       "      <td>unknown</td>\n",
       "      <td>marketing</td>\n",
       "      <td>0</td>\n",
       "      <td>us</td>\n",
       "    </tr>\n",
       "    <tr>\n",
       "      <th>1</th>\n",
       "      <td>custom servic cloud video product</td>\n",
       "      <td>90 second world cloud video product service90 ...</td>\n",
       "      <td>organis focus vibrant awesomedo passion custom...</td>\n",
       "      <td>expect youyour key respons commun client 90 se...</td>\n",
       "      <td>get usthrough part 90 second team gainexperi w...</td>\n",
       "      <td>0</td>\n",
       "      <td>1</td>\n",
       "      <td>0</td>\n",
       "      <td>full-time</td>\n",
       "      <td>not applicable</td>\n",
       "      <td>unknown</td>\n",
       "      <td>marketing and advertising</td>\n",
       "      <td>customer service</td>\n",
       "      <td>0</td>\n",
       "      <td>nz</td>\n",
       "    </tr>\n",
       "    <tr>\n",
       "      <th>2</th>\n",
       "      <td>commiss machineri assist cma</td>\n",
       "      <td>valor servic provid workforc solut meet need c...</td>\n",
       "      <td>client locat houston activ seek experienc comm...</td>\n",
       "      <td>implement precommiss commiss procedur rotari e...</td>\n",
       "      <td></td>\n",
       "      <td>0</td>\n",
       "      <td>1</td>\n",
       "      <td>0</td>\n",
       "      <td>unknown</td>\n",
       "      <td>unknown</td>\n",
       "      <td>unknown</td>\n",
       "      <td>unknown</td>\n",
       "      <td>unknown</td>\n",
       "      <td>0</td>\n",
       "      <td>us</td>\n",
       "    </tr>\n",
       "    <tr>\n",
       "      <th>3</th>\n",
       "      <td>account execut washington dc</td>\n",
       "      <td>passion improv qualiti life geographi heart ev...</td>\n",
       "      <td>compani esri – environment system research ins...</td>\n",
       "      <td>educ bachelor ’ master ’ gi busi administr rel...</td>\n",
       "      <td>cultur anyth corporate—w collabor creativ envi...</td>\n",
       "      <td>0</td>\n",
       "      <td>1</td>\n",
       "      <td>0</td>\n",
       "      <td>full-time</td>\n",
       "      <td>mid-senior level</td>\n",
       "      <td>bachelor's degree</td>\n",
       "      <td>computer software</td>\n",
       "      <td>sales</td>\n",
       "      <td>0</td>\n",
       "      <td>us</td>\n",
       "    </tr>\n",
       "    <tr>\n",
       "      <th>4</th>\n",
       "      <td>bill review manag</td>\n",
       "      <td>spotsourc solut llc global human capit manag c...</td>\n",
       "      <td>job titl item review managerloc fort worth tx ...</td>\n",
       "      <td>qualificationsrn licens state texasdiploma bac...</td>\n",
       "      <td>full benefit offer</td>\n",
       "      <td>0</td>\n",
       "      <td>1</td>\n",
       "      <td>1</td>\n",
       "      <td>full-time</td>\n",
       "      <td>mid-senior level</td>\n",
       "      <td>bachelor's degree</td>\n",
       "      <td>hospital &amp; health care</td>\n",
       "      <td>health care provider</td>\n",
       "      <td>0</td>\n",
       "      <td>us</td>\n",
       "    </tr>\n",
       "  </tbody>\n",
       "</table>\n",
       "</div>"
      ],
      "text/plain": [
       "                               title  \\\n",
       "0                      market intern   \n",
       "1  custom servic cloud video product   \n",
       "2       commiss machineri assist cma   \n",
       "3       account execut washington dc   \n",
       "4                  bill review manag   \n",
       "\n",
       "                                     company_profile  \\\n",
       "0  food52 weve creat groundbreak awardwin cook si...   \n",
       "1  90 second world cloud video product service90 ...   \n",
       "2  valor servic provid workforc solut meet need c...   \n",
       "3  passion improv qualiti life geographi heart ev...   \n",
       "4  spotsourc solut llc global human capit manag c...   \n",
       "\n",
       "                                         description  \\\n",
       "0  food52 fastgrow jame beard awardwin onlin food...   \n",
       "1  organis focus vibrant awesomedo passion custom...   \n",
       "2  client locat houston activ seek experienc comm...   \n",
       "3  compani esri – environment system research ins...   \n",
       "4  job titl item review managerloc fort worth tx ...   \n",
       "\n",
       "                                        requirements  \\\n",
       "0  experi content manag system major plu blog cou...   \n",
       "1  expect youyour key respons commun client 90 se...   \n",
       "2  implement precommiss commiss procedur rotari e...   \n",
       "3  educ bachelor ’ master ’ gi busi administr rel...   \n",
       "4  qualificationsrn licens state texasdiploma bac...   \n",
       "\n",
       "                                            benefits  telecommuting  \\\n",
       "0                                                                 0   \n",
       "1  get usthrough part 90 second team gainexperi w...              0   \n",
       "2                                                                 0   \n",
       "3  cultur anyth corporate—w collabor creativ envi...              0   \n",
       "4                                 full benefit offer              0   \n",
       "\n",
       "   has_company_logo  has_questions employment_type required_experience  \\\n",
       "0                 1              0           other          internship   \n",
       "1                 1              0       full-time      not applicable   \n",
       "2                 1              0         unknown             unknown   \n",
       "3                 1              0       full-time    mid-senior level   \n",
       "4                 1              1       full-time    mid-senior level   \n",
       "\n",
       "  required_education                   industry              function  \\\n",
       "0            unknown                    unknown             marketing   \n",
       "1            unknown  marketing and advertising      customer service   \n",
       "2            unknown                    unknown               unknown   \n",
       "3  bachelor's degree          computer software                 sales   \n",
       "4  bachelor's degree     hospital & health care  health care provider   \n",
       "\n",
       "   fraudulent country  \n",
       "0           0      us  \n",
       "1           0      nz  \n",
       "2           0      us  \n",
       "3           0      us  \n",
       "4           0      us  "
      ]
     },
     "execution_count": 7,
     "metadata": {},
     "output_type": "execute_result"
    }
   ],
   "source": [
    "# Drop unnecessary columns\n",
    "drop_columns = ['job_id', 'salary_range', 'location', 'department']\n",
    "df_sep = df.drop(columns=drop_columns)\n",
    "\n",
    "print(df_sep.shape)\n",
    "df_sep.head()\n"
   ]
  },
  {
   "cell_type": "code",
   "execution_count": 8,
   "id": "cfda8797",
   "metadata": {},
   "outputs": [
    {
     "name": "stdout",
     "output_type": "stream",
     "text": [
      "(17880, 11)\n"
     ]
    },
    {
     "data": {
      "text/html": [
       "<div>\n",
       "<style scoped>\n",
       "    .dataframe tbody tr th:only-of-type {\n",
       "        vertical-align: middle;\n",
       "    }\n",
       "\n",
       "    .dataframe tbody tr th {\n",
       "        vertical-align: top;\n",
       "    }\n",
       "\n",
       "    .dataframe thead th {\n",
       "        text-align: right;\n",
       "    }\n",
       "</style>\n",
       "<table border=\"1\" class=\"dataframe\">\n",
       "  <thead>\n",
       "    <tr style=\"text-align: right;\">\n",
       "      <th></th>\n",
       "      <th>telecommuting</th>\n",
       "      <th>has_company_logo</th>\n",
       "      <th>has_questions</th>\n",
       "      <th>employment_type</th>\n",
       "      <th>required_experience</th>\n",
       "      <th>required_education</th>\n",
       "      <th>industry</th>\n",
       "      <th>function</th>\n",
       "      <th>fraudulent</th>\n",
       "      <th>country</th>\n",
       "      <th>text_features</th>\n",
       "    </tr>\n",
       "  </thead>\n",
       "  <tbody>\n",
       "    <tr>\n",
       "      <th>0</th>\n",
       "      <td>0</td>\n",
       "      <td>1</td>\n",
       "      <td>0</td>\n",
       "      <td>other</td>\n",
       "      <td>internship</td>\n",
       "      <td>unknown</td>\n",
       "      <td>unknown</td>\n",
       "      <td>marketing</td>\n",
       "      <td>0</td>\n",
       "      <td>us</td>\n",
       "      <td>market internfood52 weve creat groundbreak awa...</td>\n",
       "    </tr>\n",
       "    <tr>\n",
       "      <th>1</th>\n",
       "      <td>0</td>\n",
       "      <td>1</td>\n",
       "      <td>0</td>\n",
       "      <td>full-time</td>\n",
       "      <td>not applicable</td>\n",
       "      <td>unknown</td>\n",
       "      <td>marketing and advertising</td>\n",
       "      <td>customer service</td>\n",
       "      <td>0</td>\n",
       "      <td>nz</td>\n",
       "      <td>custom servic cloud video product90 second wor...</td>\n",
       "    </tr>\n",
       "    <tr>\n",
       "      <th>2</th>\n",
       "      <td>0</td>\n",
       "      <td>1</td>\n",
       "      <td>0</td>\n",
       "      <td>unknown</td>\n",
       "      <td>unknown</td>\n",
       "      <td>unknown</td>\n",
       "      <td>unknown</td>\n",
       "      <td>unknown</td>\n",
       "      <td>0</td>\n",
       "      <td>us</td>\n",
       "      <td>commiss machineri assist cmavalor servic provi...</td>\n",
       "    </tr>\n",
       "    <tr>\n",
       "      <th>3</th>\n",
       "      <td>0</td>\n",
       "      <td>1</td>\n",
       "      <td>0</td>\n",
       "      <td>full-time</td>\n",
       "      <td>mid-senior level</td>\n",
       "      <td>bachelor's degree</td>\n",
       "      <td>computer software</td>\n",
       "      <td>sales</td>\n",
       "      <td>0</td>\n",
       "      <td>us</td>\n",
       "      <td>account execut washington dcpassion improv qua...</td>\n",
       "    </tr>\n",
       "    <tr>\n",
       "      <th>4</th>\n",
       "      <td>0</td>\n",
       "      <td>1</td>\n",
       "      <td>1</td>\n",
       "      <td>full-time</td>\n",
       "      <td>mid-senior level</td>\n",
       "      <td>bachelor's degree</td>\n",
       "      <td>hospital &amp; health care</td>\n",
       "      <td>health care provider</td>\n",
       "      <td>0</td>\n",
       "      <td>us</td>\n",
       "      <td>bill review managspotsourc solut llc global hu...</td>\n",
       "    </tr>\n",
       "  </tbody>\n",
       "</table>\n",
       "</div>"
      ],
      "text/plain": [
       "   telecommuting  has_company_logo  has_questions employment_type  \\\n",
       "0              0                 1              0           other   \n",
       "1              0                 1              0       full-time   \n",
       "2              0                 1              0         unknown   \n",
       "3              0                 1              0       full-time   \n",
       "4              0                 1              1       full-time   \n",
       "\n",
       "  required_experience required_education                   industry  \\\n",
       "0          internship            unknown                    unknown   \n",
       "1      not applicable            unknown  marketing and advertising   \n",
       "2             unknown            unknown                    unknown   \n",
       "3    mid-senior level  bachelor's degree          computer software   \n",
       "4    mid-senior level  bachelor's degree     hospital & health care   \n",
       "\n",
       "               function  fraudulent country  \\\n",
       "0             marketing           0      us   \n",
       "1      customer service           0      nz   \n",
       "2               unknown           0      us   \n",
       "3                 sales           0      us   \n",
       "4  health care provider           0      us   \n",
       "\n",
       "                                       text_features  \n",
       "0  market internfood52 weve creat groundbreak awa...  \n",
       "1  custom servic cloud video product90 second wor...  \n",
       "2  commiss machineri assist cmavalor servic provi...  \n",
       "3  account execut washington dcpassion improv qua...  \n",
       "4  bill review managspotsourc solut llc global hu...  "
      ]
     },
     "execution_count": 8,
     "metadata": {},
     "output_type": "execute_result"
    }
   ],
   "source": [
    "df['text_features'] = df['title'] + df['company_profile'] + df['description'] + df['requirements'] + df['benefits']\n",
    "\n",
    "drop_columns = ['job_id', 'salary_range', 'location', 'department', 'title', 'company_profile', 'description', 'requirements', 'benefits']\n",
    "df_concat = df.drop(columns=drop_columns)\n",
    "\n",
    "categorical_features = ['country', 'employment_type', 'required_experience', 'required_education', 'industry', 'function']\n",
    "\n",
    "print(df_concat.shape)\n",
    "df_concat.head()"
   ]
  },
  {
   "cell_type": "markdown",
   "id": "81784b68",
   "metadata": {},
   "source": [
    "# Training (Separate Approach)"
   ]
  },
  {
   "cell_type": "code",
   "execution_count": 9,
   "id": "5bcb8630",
   "metadata": {},
   "outputs": [
    {
     "name": "stdout",
     "output_type": "stream",
     "text": [
      "Training set: (14304, 14)\n",
      "Testing set: (3576, 14)\n"
     ]
    }
   ],
   "source": [
    "# Features and target\n",
    "X = df_sep.drop('fraudulent', axis=1)\n",
    "y = df_sep['fraudulent']\n",
    "\n",
    "# Train-test split\n",
    "X_train, X_test, y_train, y_test = train_test_split(X, y, stratify=y, test_size=0.2, random_state=42)\n",
    "\n",
    "print(\"Training set:\", X_train.shape)\n",
    "print(\"Testing set:\", X_test.shape)\n"
   ]
  },
  {
   "cell_type": "code",
   "execution_count": 10,
   "id": "98b730f4-dfcd-46fe-a127-1ba790e5d4e1",
   "metadata": {},
   "outputs": [
    {
     "data": {
      "text/plain": [
       "[1, 1, 4, 10, 29, 80, 219, 596, 1620, 4405, 11974, 32550]"
      ]
     },
     "execution_count": 10,
     "metadata": {},
     "output_type": "execute_result"
    }
   ],
   "source": [
    "import math\n",
    "\n",
    "# max_feats = []\n",
    "# for i in range(1, 13):\n",
    "#     max_feats.append(int(math.exp(i)/5))\n",
    "\n",
    "# max_feats[0] = 1\n",
    "\n",
    "# max_feats\n",
    "\n",
    "max_feats = [13]"
   ]
  },
  {
   "cell_type": "code",
   "execution_count": 11,
   "id": "7f64b8c0-74db-4d8f-ac89-2b7e8340fb1f",
   "metadata": {},
   "outputs": [
    {
     "name": "stdout",
     "output_type": "stream",
     "text": [
      "Running for 1 features...\n",
      "Feature cap 1 done. Train F1: 0.5457, Test F1: 0.4932\n",
      "Running for 1 features...\n",
      "Feature cap 1 done. Train F1: 0.5457, Test F1: 0.4932\n",
      "Running for 4 features...\n",
      "Feature cap 4 done. Train F1: 0.5839, Test F1: 0.5217\n",
      "Running for 10 features...\n",
      "Feature cap 10 done. Train F1: 0.6094, Test F1: 0.5252\n",
      "Running for 29 features...\n",
      "Feature cap 29 done. Train F1: 0.7222, Test F1: 0.5967\n",
      "Running for 80 features...\n",
      "Feature cap 80 done. Train F1: 0.8999, Test F1: 0.6840\n",
      "Running for 219 features...\n",
      "Feature cap 219 done. Train F1: 0.9918, Test F1: 0.7490\n",
      "Running for 596 features...\n",
      "Feature cap 596 done. Train F1: 1.0000, Test F1: 0.7836\n",
      "Running for 1620 features...\n",
      "Feature cap 1620 done. Train F1: 1.0000, Test F1: 0.8305\n",
      "Running for 4405 features...\n",
      "Feature cap 4405 done. Train F1: 1.0000, Test F1: 0.8323\n",
      "Running for 11974 features...\n",
      "Feature cap 11974 done. Train F1: 1.0000, Test F1: 0.8467\n",
      "Running for 32550 features...\n",
      "Feature cap 32550 done. Train F1: 1.0000, Test F1: 0.8530\n"
     ]
    }
   ],
   "source": [
    "from sklearn.model_selection import StratifiedKFold\n",
    "from sklearn.metrics import precision_recall_curve\n",
    "from sklearn.pipeline import Pipeline\n",
    "from sklearn.compose import ColumnTransformer\n",
    "from sklearn.preprocessing import StandardScaler, OneHotEncoder\n",
    "from sklearn.feature_extraction.text import TfidfVectorizer\n",
    "from sklearn.svm import SVC\n",
    "import numpy as np\n",
    "\n",
    "n_splits = 5\n",
    "skf = StratifiedKFold(n_splits=n_splits, shuffle=True, random_state=42)\n",
    "\n",
    "train_f1s = []\n",
    "test_f1s = []\n",
    "\n",
    "for item in max_feats:\n",
    "    print(f\"Running for {item} features...\")\n",
    "\n",
    "    # Store F1s per fold\n",
    "    train_fold_scores = []\n",
    "    test_fold_scores = []\n",
    "\n",
    "    for train_idx, val_idx in skf.split(X_train, y_train):\n",
    "        X_tr, X_val = X_train.iloc[train_idx], X_train.iloc[val_idx]\n",
    "        y_tr, y_val = y_train.iloc[train_idx], y_train.iloc[val_idx]\n",
    "\n",
    "        # TF-IDF\n",
    "        text_transformer = TfidfVectorizer(max_features=item, ngram_range=(1,2), min_df=5, sublinear_tf=True)\n",
    "        categorical_transformer = OneHotEncoder(handle_unknown='ignore')\n",
    "\n",
    "        preprocessor = ColumnTransformer(\n",
    "        transformers=[\n",
    "            ('title_tfidf', text_transformer, 'title'),\n",
    "            ('desc_tfidf', text_transformer, 'description'),\n",
    "            ('profile_tfidf', text_transformer, 'company_profile'),\n",
    "            ('requirements_tfidf', text_transformer, 'requirements'),\n",
    "            ('benefits_tfidf', text_transformer, 'benefits'),\n",
    "            ('cat', categorical_transformer, categorical_features),\n",
    "            ('num', 'passthrough', ['telecommuting', 'has_company_logo', 'has_questions'])\n",
    "        ],\n",
    "        remainder='drop'\n",
    "        )\n",
    "\n",
    "        svm_pipeline = Pipeline(steps=[\n",
    "            ('preprocessor', preprocessor),\n",
    "            ('scaler', StandardScaler(with_mean=False)),\n",
    "            ('classifier', SVC(kernel='linear', C=0.01, class_weight='balanced',\n",
    "                               probability=True, random_state=1))\n",
    "        ])\n",
    "\n",
    "        # Fit\n",
    "        svm_pipeline.fit(X_tr, y_tr)\n",
    "\n",
    "        # Predict on training fold\n",
    "        y_prob_train = svm_pipeline.predict_proba(X_tr)[:, 1]\n",
    "        p, r, _ = precision_recall_curve(y_tr, y_prob_train)\n",
    "        f1_train = 2 * (p * r) / (p + r + 1e-6)\n",
    "        train_fold_scores.append(f1_train.max())\n",
    "\n",
    "        # Predict on validation fold\n",
    "        y_prob_val = svm_pipeline.predict_proba(X_val)[:, 1]\n",
    "        p, r, _ = precision_recall_curve(y_val, y_prob_val)\n",
    "        f1_val = 2 * (p * r) / (p + r + 1e-6)\n",
    "        test_fold_scores.append(f1_val.max())\n",
    "\n",
    "    # Store average F1 across folds\n",
    "    train_f1s.append((np.mean(train_fold_scores), np.std(train_fold_scores)))\n",
    "    test_f1s.append((np.mean(test_fold_scores), np.std(test_fold_scores)))\n",
    "\n",
    "    print(f\"Feature cap {item} done. Train F1: {train_f1s[-1][0]:.4f}, Test F1: {test_f1s[-1][0]:.4f}\")"
   ]
  },
  {
   "cell_type": "code",
   "execution_count": 20,
   "id": "5e969948",
   "metadata": {},
   "outputs": [
    {
     "name": "stdout",
     "output_type": "stream",
     "text": [
      "18.643479913084843\n",
      "8.744559641311169e-76\n"
     ]
    }
   ],
   "source": [
    "from scipy import stats\n",
    "\n",
    "mean1, std1, n1 = 0.8530183552307035, 0.024837403069600538, len(df['text_features'])/5\n",
    "mean2, std2, n2 = 0.8632746656330342, 0.021571951613661697, len(df['text_features'])/5\n",
    "t_stat, p_value = stats.ttest_ind_from_stats(mean2, std2, n2, mean1, std1, n1)\n",
    "\n",
    "print(t_stat)\n",
    "print(p_value)"
   ]
  },
  {
   "cell_type": "code",
   "execution_count": 17,
   "id": "f8790f32",
   "metadata": {},
   "outputs": [
    {
     "data": {
      "text/plain": [
       "3576.0"
      ]
     },
     "execution_count": 17,
     "metadata": {},
     "output_type": "execute_result"
    }
   ],
   "source": [
    "len(df['text_features'])/5"
   ]
  },
  {
   "cell_type": "code",
   "execution_count": 13,
   "id": "1309bca5-a1e8-4adc-a16a-4440f540acbf",
   "metadata": {},
   "outputs": [
    {
     "data": {
      "image/png": "[encoded data removed]",
      "text/plain": [
       "<Figure size 640x480 with 1 Axes>"
      ]
     },
     "metadata": {},
     "output_type": "display_data"
    }
   ],
   "source": [
    "import matplotlib.pyplot as plt\n",
    "\n",
    "x = max_feats\n",
    "train_means, train_stds = zip(*train_f1s)\n",
    "test_means, test_stds = zip(*test_f1s)\n",
    "\n",
    "plt.errorbar(x, train_means, yerr=train_stds, label='Train F1')\n",
    "plt.errorbar(x, test_means, yerr=test_stds, label='Test F1')\n",
    "plt.xscale('log')\n",
    "plt.xlabel('Max Unigram/Bigram Features')\n",
    "plt.ylabel('Best F1 Score (via PR curve)')\n",
    "max_labels = []\n",
    "for i in range(1, 13):\n",
    "    max_labels.append(\"e^\" + f\"{i}\")\n",
    "plt.xticks(max_feats, \n",
    "           max_labels)\n",
    "plt.legend()\n",
    "plt.title('SVC Performance Across Feature Set Sizes')\n",
    "plt.grid(True)\n",
    "plt.show()"
   ]
  },
  {
   "cell_type": "code",
   "execution_count": 14,
   "id": "c7cfe287-111b-4c21-9754-180c07fb5d7c",
   "metadata": {},
   "outputs": [
    {
     "name": "stdout",
     "output_type": "stream",
     "text": [
      "[(0.5456851588097522, 0.0059065380672717405), (0.5456851588097522, 0.0059065380672717405), (0.5838976265188807, 0.010121036323903142), (0.6093971558627345, 0.011321776424860258), (0.722207824872432, 0.007090223253892453), (0.8998511743741929, 0.010284290807149443), (0.9917736878387691, 0.0016259518220683342), (0.99999950000025, 0.0), (0.99999950000025, 0.0), (0.99999950000025, 0.0), (0.99999950000025, 0.0), (0.99999950000025, 0.0)]\n"
     ]
    }
   ],
   "source": [
    "print(train_f1s)\n"
   ]
  },
  {
   "cell_type": "code",
   "execution_count": 15,
   "id": "1c3b9de2-b5cd-49b6-ba6a-2eeffc97ddb0",
   "metadata": {},
   "outputs": [
    {
     "name": "stdout",
     "output_type": "stream",
     "text": [
      "[(0.49316894990544735, 0.032902251688802536), (0.49316894990544735, 0.032902251688802536), (0.5216967717076497, 0.0253281332062429), (0.5252499866940233, 0.039515229022283375), (0.5966531336548382, 0.04370990132152579), (0.6839660124932931, 0.01611264992543568), (0.7490129963994432, 0.02259121243800165), (0.7835839333205262, 0.021709438989015162), (0.830497070829556, 0.025145254291867678), (0.8322619696708429, 0.019309082087046108), (0.8467454358473117, 0.017374684234766034), (0.8530183552307035, 0.024837403069600538)]\n"
     ]
    }
   ],
   "source": [
    "print(test_f1s)"
   ]
  },
  {
   "cell_type": "code",
   "execution_count": null,
   "id": "cae5c4b8",
   "metadata": {},
   "outputs": [],
   "source": [
    "# TF-IDF for text\n",
    "text_transformer = TfidfVectorizer(max_features=6000, ngram_range=(1,2), min_df=5, sublinear_tf=True)\n",
    "\n",
    "# Categorical features\n",
    "categorical_transformer = OneHotEncoder(handle_unknown='ignore')\n",
    "\n",
    "# Combine\n",
    "preprocessor = ColumnTransformer(\n",
    "    transformers=[\n",
    "        ('title_tfidf', text_transformer, 'title'),\n",
    "        ('desc_tfidf', text_transformer, 'description'),\n",
    "        ('profile_tfidf', text_transformer, 'company_profile'),\n",
    "        ('requirements_tfidf', text_transformer, 'requirements'),\n",
    "        ('benefits_tfidf', text_transformer, 'benefits'),\n",
    "        ('cat', categorical_transformer, categorical_features),\n",
    "        ('num', 'passthrough', ['telecommuting', 'has_company_logo', 'has_questions'])\n",
    "    ],\n",
    "    remainder='drop'\n",
    ")"
   ]
  },
  {
   "cell_type": "code",
   "execution_count": null,
   "id": "15f35f56",
   "metadata": {},
   "outputs": [
    {
     "name": "stdout",
     "output_type": "stream",
     "text": [
      "Fitting 5 folds for each of 1 candidates, totalling 5 fits\n",
      "Best C: 0.01\n",
      "Best cross-validated F1-score: 0.817793919701295\n",
      "              precision    recall  f1-score   support\n",
      "\n",
      "           0       0.99      1.00      0.99      3403\n",
      "           1       0.95      0.80      0.87       173\n",
      "\n",
      "    accuracy                           0.99      3576\n",
      "   macro avg       0.97      0.90      0.93      3576\n",
      "weighted avg       0.99      0.99      0.99      3576\n",
      "\n"
     ]
    }
   ],
   "source": [
    "# Define SVM pipeline\n",
    "svm_pipeline = Pipeline(steps=[\n",
    "    ('preprocessor', preprocessor),\n",
    "    ('scaler', StandardScaler(with_mean=False)),  # with_mean=False because of sparse TF-IDF\n",
    "    ('classifier', SVC(kernel='linear', C=3.0, class_weight='balanced', probability=True, random_state=1))\n",
    "])\n",
    "\n",
    "# Fit\n",
    "param_grid = {\n",
    "    # 'classifier__C': [0.01, 0.1, 1]\n",
    "    'classifier__C': [0.01]\n",
    "}\n",
    "\n",
    "grid_search = GridSearchCV(\n",
    "    estimator=svm_pipeline,\n",
    "    param_grid=param_grid,\n",
    "    cv=5,  # 5-fold cross-validation\n",
    "    scoring='f1',  # Optimize for F1-score\n",
    "    n_jobs=-1,  # Use all available CPU cores\n",
    "    verbose=2  # Print progress\n",
    ")\n",
    "\n",
    "grid_search.fit(X_train, y_train)\n",
    "\n",
    "print(\"Best C:\", grid_search.best_params_['classifier__C'])\n",
    "print(\"Best cross-validated F1-score:\", grid_search.best_score_)\n",
    "\n",
    "best_model_S = grid_search.best_estimator_\n",
    "\n",
    "y_pred = best_model_S.predict(X_test)\n",
    "y_prob = best_model_S.predict_proba(X_test)[:, 1]\n",
    "\n",
    "print(classification_report(y_test, y_pred))\n",
    "\n",
    "# cm = confusion_matrix(y_test, y_pred)\n",
    "# sns.heatmap(cm, annot=True, fmt='d', cmap='Blues')\n",
    "# plt.xlabel('Predicted')\n",
    "# plt.ylabel('Actual')\n",
    "# plt.title('Separate Confusion Matrix after C Tuning')\n",
    "# plt.show()\n",
    "\n",
    "# roc_auc = roc_auc_score(y_test, y_prob)\n",
    "# print(f\"ROC AUC Score: {roc_auc:.4f}\") \n",
    "\n",
    "# # # Predict\n",
    "# # y_pred = svm_pipeline.predict(X_test)\n",
    "# # y_prob = svm_pipeline.predict_proba(X_test)[:,1]  # Probability scores for AUC\n"
   ]
  },
  {
   "cell_type": "code",
   "execution_count": null,
   "id": "8b1c9ed4",
   "metadata": {},
   "outputs": [],
   "source": [
    "# # Classification report\n",
    "# print(classification_report(y_test, y_pred))\n",
    "\n",
    "# # Confusion Matrix\n",
    "# cm = confusion_matrix(y_test, y_pred)\n",
    "# sns.heatmap(cm, annot=True, fmt='d', cmap='Blues')\n",
    "# plt.xlabel('Predicted')\n",
    "# plt.ylabel('Actual')\n",
    "# plt.title('Confusion Matrix')\n",
    "# plt.show()\n",
    "\n",
    "# # ROC AUC Score\n",
    "# roc_auc = roc_auc_score(y_test, y_prob)\n",
    "# print(f\"ROC AUC Score: {roc_auc:.4f}\")\n"
   ]
  },
  {
   "cell_type": "code",
   "execution_count": null,
   "id": "784cdd8e",
   "metadata": {},
   "outputs": [
    {
     "name": "stdout",
     "output_type": "stream",
     "text": [
      "Number of thresholds: 3363\n",
      "Best Threshold: 0.2449\n",
      "Best F1-Score: 0.8908\n"
     ]
    }
   ],
   "source": [
    "# Calculate precision, recall, thresholds\n",
    "precisions, recalls, thresholds = precision_recall_curve(y_test, y_prob)\n",
    "print(f\"Number of thresholds: {len(thresholds)}\")\n",
    "\n",
    "# F1 scores\n",
    "f1_scores = 2 * (precisions * recalls) / (precisions + recalls + 1e-6)\n",
    "\n",
    "# Best threshold\n",
    "best_idx = np.argmax(f1_scores)\n",
    "best_threshold = thresholds[best_idx]\n",
    "best_f1 = f1_scores[best_idx]\n",
    "\n",
    "print(f\"Best Threshold: {best_threshold:.4f}\")\n",
    "print(f\"Best F1-Score: {best_f1:.4f}\")"
   ]
  },
  {
   "cell_type": "code",
   "execution_count": null,
   "id": "81b0fe6e",
   "metadata": {},
   "outputs": [
    {
     "name": "stdout",
     "output_type": "stream",
     "text": [
      "              precision    recall  f1-score   support\n",
      "\n",
      "           0       0.99      0.99      0.99      3403\n",
      "           1       0.89      0.90      0.89       173\n",
      "\n",
      "    accuracy                           0.99      3576\n",
      "   macro avg       0.94      0.95      0.94      3576\n",
      "weighted avg       0.99      0.99      0.99      3576\n",
      "\n"
     ]
    }
   ],
   "source": [
    "# Apply best threshold\n",
    "y_pred_threshold = (y_prob >= best_threshold).astype(int)\n",
    "\n",
    "# Classification report\n",
    "print(classification_report(y_test, y_pred_threshold))\n",
    "\n",
    "# # Confusion Matrix (Threshold Tuned)\n",
    "# cm_thresh = confusion_matrix(y_test, y_pred_threshold)\n",
    "# sns.heatmap(cm_thresh, annot=True, fmt='d', cmap='Blues')\n",
    "# plt.xlabel('Predicted')\n",
    "# plt.ylabel('Actual')\n",
    "# plt.title('Separate Confusion Matrix after Threshold Tuning')\n",
    "# plt.show()"
   ]
  },
  {
   "cell_type": "code",
   "execution_count": null,
   "id": "145892bf",
   "metadata": {},
   "outputs": [
    {
     "data": {
      "image/png": "[encoded data removed]",
      "text/plain": [
       "<Figure size 800x600 with 1 Axes>"
      ]
     },
     "metadata": {},
     "output_type": "display_data"
    }
   ],
   "source": [
    "# Plot precision and recall vs threshold\n",
    "plt.figure(figsize=(8,6))\n",
    "plt.plot(thresholds, precisions[:-1], \"b--\", label=\"Precision\")\n",
    "plt.plot(thresholds, recalls[:-1], \"g-\", label=\"Recall\")\n",
    "plt.xlabel(\"Threshold\")\n",
    "plt.ylabel(\"Score\")\n",
    "plt.title(\"Precision and Recall vs Threshold\")\n",
    "plt.legend()\n",
    "plt.grid()\n",
    "plt.show()"
   ]
  },
  {
   "cell_type": "markdown",
   "id": "9b6b5179",
   "metadata": {},
   "source": [
    "# Training (Combined Approach)"
   ]
  },
  {
   "cell_type": "code",
   "execution_count": null,
   "id": "62938685",
   "metadata": {},
   "outputs": [
    {
     "name": "stdout",
     "output_type": "stream",
     "text": [
      "Training set: (14304, 10)\n",
      "Testing set: (3576, 10)\n"
     ]
    }
   ],
   "source": [
    "# Features and target\n",
    "X = df_concat.drop('fraudulent', axis=1)\n",
    "y = df_concat['fraudulent']\n",
    "\n",
    "# Train-test split\n",
    "X_train, X_test, y_train, y_test = train_test_split(X, y, stratify=y, test_size=0.2, random_state=1)\n",
    "\n",
    "print(\"Training set:\", X_train.shape)\n",
    "print(\"Testing set:\", X_test.shape)"
   ]
  },
  {
   "cell_type": "code",
   "execution_count": null,
   "id": "6a8344e5",
   "metadata": {},
   "outputs": [],
   "source": [
    "# TF-IDF for text\n",
    "text_transformer2 = TfidfVectorizer(max_features=50000, ngram_range=(1,2), min_df=5, sublinear_tf=True)\n",
    "categorical_transformer2 = OneHotEncoder(handle_unknown='ignore')\n",
    "\n",
    "# Combine\n",
    "preprocessor2 = ColumnTransformer(\n",
    "    transformers=[\n",
    "        ('desc_tfidf', text_transformer2, 'text_features'),\n",
    "        ('cat', categorical_transformer2, categorical_features),\n",
    "        ('num', 'passthrough', ['telecommuting', 'has_company_logo', 'has_questions'])\n",
    "    ],\n",
    "    remainder='drop')"
   ]
  },
  {
   "cell_type": "code",
   "execution_count": null,
   "id": "dc0e1e73",
   "metadata": {},
   "outputs": [
    {
     "name": "stdout",
     "output_type": "stream",
     "text": [
      "Fitting 5 folds for each of 1 candidates, totalling 5 fits\n",
      "[CV] END .................................classifier__C=0.01; total time= 2.9min\n",
      "[CV] END .................................classifier__C=0.01; total time= 4.8min\n",
      "[CV] END .................................classifier__C=0.01; total time= 2.8min\n",
      "[CV] END .................................classifier__C=0.01; total time= 4.8min\n",
      "[CV] END .................................classifier__C=0.01; total time= 2.9min\n",
      "[CV] END .................................classifier__C=0.01; total time= 5.0min\n",
      "[CV] END .................................classifier__C=0.01; total time= 3.0min\n",
      "[CV] END .................................classifier__C=0.01; total time= 5.0min\n",
      "[CV] END .................................classifier__C=0.01; total time= 3.1min\n",
      "[CV] END .................................classifier__C=0.01; total time= 5.1min\n",
      "Best C: 0.01\n",
      "Best cross-validated F1-score: 0.8239464493605556\n",
      "              precision    recall  f1-score   support\n",
      "\n",
      "           0       0.99      1.00      1.00      3403\n",
      "           1       0.98      0.84      0.90       173\n",
      "\n",
      "    accuracy                           0.99      3576\n",
      "   macro avg       0.99      0.92      0.95      3576\n",
      "weighted avg       0.99      0.99      0.99      3576\n",
      "\n"
     ]
    }
   ],
   "source": [
    "# Define SVM pipeline\n",
    "svm_pipeline2 = Pipeline(steps=[\n",
    "    ('preprocessor', preprocessor2),\n",
    "    ('scaler', StandardScaler(with_mean=False)),  # with_mean=False because of sparse TF-IDF\n",
    "    ('classifier', SVC(kernel='linear', C=3.0, class_weight='balanced', probability=True, random_state=1))\n",
    "])\n",
    "\n",
    "param_grid = {\n",
    "    # 'classifier__C': [0.01, 0.1, 1]\n",
    "    'classifier__C': [0.01]\n",
    "}\n",
    "\n",
    "grid_search = GridSearchCV(\n",
    "    estimator=svm_pipeline2,\n",
    "    param_grid=param_grid,\n",
    "    cv=5,  # 5-fold cross-validation\n",
    "    scoring='f1',  # Optimize for F1-score\n",
    "    n_jobs=-1,  # Use all available CPU cores\n",
    "    verbose=2  # Print progress\n",
    ")\n",
    "\n",
    "grid_search.fit(X_train, y_train)\n",
    "\n",
    "print(\"Best C:\", grid_search.best_params_['classifier__C'])\n",
    "print(\"Best cross-validated F1-score:\", grid_search.best_score_)\n",
    "\n",
    "best_model_C = grid_search.best_estimator_\n",
    "\n",
    "y_pred = best_model_C.predict(X_test)\n",
    "y_prob = best_model_C.predict_proba(X_test)[:, 1]\n",
    "\n",
    "print(classification_report(y_test, y_pred))\n",
    "\n",
    "# cm = confusion_matrix(y_test, y_pred)\n",
    "# sns.heatmap(cm, annot=True, fmt='d', cmap='Reds')\n",
    "# plt.xlabel('Predicted')\n",
    "# plt.ylabel('Actual')\n",
    "# plt.title('Combined Confusion Matrix after C Tuning')\n",
    "# plt.show()\n",
    "\n",
    "# roc_auc = roc_auc_score(y_test, y_prob)\n",
    "# print(f\"ROC AUC Score: {roc_auc:.4f}\") \n",
    "\n",
    "# # # Fit\n",
    "# # svm_pipeline2.fit(X_train, y_train)\n",
    "\n",
    "# # # Predict\n",
    "# # y_pred = svm_pipeline2.predict(X_test)\n",
    "# # y_prob = svm_pipeline2.predict_proba(X_test)[:,1]  # Probability scores for AUC"
   ]
  },
  {
   "cell_type": "code",
   "execution_count": null,
   "id": "ca160e10",
   "metadata": {},
   "outputs": [],
   "source": [
    "# # Classification report\n",
    "# print(classification_report(y_test, y_pred))\n",
    "\n",
    "# # Confusion Matrix\n",
    "# cm = confusion_matrix(y_test, y_pred)\n",
    "# sns.heatmap(cm, annot=True, fmt='d', cmap='Blues')\n",
    "# plt.xlabel('Predicted')\n",
    "# plt.ylabel('Actual')\n",
    "# plt.title('Confusion Matrix')\n",
    "# plt.show()\n",
    "\n",
    "# # ROC AUC Score\n",
    "# roc_auc = roc_auc_score(y_test, y_prob)\n",
    "# print(f\"ROC AUC Score: {roc_auc:.4f}\")"
   ]
  },
  {
   "cell_type": "code",
   "execution_count": null,
   "id": "cf06bb63",
   "metadata": {},
   "outputs": [
    {
     "name": "stdout",
     "output_type": "stream",
     "text": [
      "Number of thresholds: 3359\n",
      "Best Threshold: 0.3621\n",
      "Best F1-Score: 0.9384\n"
     ]
    }
   ],
   "source": [
    "# Calculate precision, recall, thresholds\n",
    "precisions, recalls, thresholds = precision_recall_curve(y_test, y_prob)\n",
    "print(f\"Number of thresholds: {len(thresholds)}\")\n",
    "\n",
    "# F1 scores\n",
    "f1_scores = 2 * (precisions * recalls) / (precisions + recalls + 1e-6)\n",
    "\n",
    "# Best threshold\n",
    "best_idx = np.argmax(f1_scores)\n",
    "best_threshold = thresholds[best_idx]\n",
    "best_f1 = f1_scores[best_idx]\n",
    "\n",
    "print(f\"Best Threshold: {best_threshold:.4f}\")\n",
    "print(f\"Best F1-Score: {best_f1:.4f}\")"
   ]
  },
  {
   "cell_type": "code",
   "execution_count": null,
   "id": "666bc59a",
   "metadata": {},
   "outputs": [
    {
     "name": "stdout",
     "output_type": "stream",
     "text": [
      "              precision    recall  f1-score   support\n",
      "\n",
      "           0       1.00      1.00      1.00      3403\n",
      "           1       0.95      0.92      0.94       173\n",
      "\n",
      "    accuracy                           0.99      3576\n",
      "   macro avg       0.97      0.96      0.97      3576\n",
      "weighted avg       0.99      0.99      0.99      3576\n",
      "\n"
     ]
    }
   ],
   "source": [
    "# Apply best threshold\n",
    "y_pred_threshold = (y_prob >= best_threshold).astype(int)\n",
    "\n",
    "# Classification report\n",
    "print(classification_report(y_test, y_pred_threshold))\n",
    "\n",
    "# # Confusion Matrix (Threshold Tuned)\n",
    "# cm_thresh = confusion_matrix(y_test, y_pred_threshold)\n",
    "# sns.heatmap(cm_thresh, annot=True, fmt='d', cmap='Reds')\n",
    "# plt.xlabel('Predicted')\n",
    "# plt.ylabel('Actual')\n",
    "# plt.title('Combined Confusion Matrix after Threshold Tuning)')\n",
    "# plt.show()"
   ]
  },
  {
   "cell_type": "code",
   "execution_count": null,
   "id": "14ce6480",
   "metadata": {},
   "outputs": [
    {
     "data": {
      "image/png": "[encoded data removed]",
      "text/plain": [
       "<Figure size 800x600 with 1 Axes>"
      ]
     },
     "metadata": {},
     "output_type": "display_data"
    }
   ],
   "source": [
    "# Plot precision and recall vs threshold\n",
    "plt.figure(figsize=(8,6))\n",
    "plt.plot(thresholds, precisions[:-1], \"b--\", label=\"Precision\")\n",
    "plt.plot(thresholds, recalls[:-1], \"g-\", label=\"Recall\")\n",
    "plt.xlabel(\"Threshold\")\n",
    "plt.ylabel(\"Score\")\n",
    "plt.title(\"Precision and Recall vs Threshold\")\n",
    "plt.legend()\n",
    "plt.grid()\n",
    "plt.show()"
   ]
  },
  {
   "cell_type": "markdown",
   "id": "25a62927",
   "metadata": {},
   "source": [
    "# WordCloud Generation"
   ]
  },
  {
   "cell_type": "code",
   "execution_count": null,
   "id": "d59db664",
   "metadata": {},
   "outputs": [
    {
     "name": "stdout",
     "output_type": "stream",
     "text": [
      "                                       feature  importance\n",
      "0                        desc_tfidf__executive    0.022596\n",
      "1                               desc_tfidf__ux    0.022489\n",
      "2                               desc_tfidf__de    0.019559\n",
      "3                             desc_tfidf__fill    0.018559\n",
      "4                        desc_tfidf__migration    0.017435\n",
      "...                                        ...         ...\n",
      "50282                desc_tfidf__foster thirst    0.000000\n",
      "50283            desc_tfidf__innovative things    0.000000\n",
      "50284                    desc_tfidf__apply hit    0.000000\n",
      "50285  desc_tfidf__proceduresfollow department    0.000000\n",
      "50286             desc_tfidf__ios applications    0.000000\n",
      "\n",
      "[50287 rows x 2 columns]\n"
     ]
    }
   ],
   "source": [
    "best_pipe = best_model_C\n",
    "\n",
    "coefs = best_pipe.named_steps['classifier'].coef_\n",
    "\n",
    "if hasattr(coefs, \"toarray\"):\n",
    "    coefs = coefs.toarray()\n",
    "\n",
    "coefs = coefs.flatten()\n",
    "\n",
    "feature_names = best_pipe.named_steps['preprocessor'].get_feature_names_out()\n",
    "\n",
    "importances = (\n",
    "    pd.DataFrame({\n",
    "        'feature': feature_names,\n",
    "        'importance': np.abs(coefs)\n",
    "    })\n",
    "    .sort_values('importance', ascending=False)\n",
    "    .reset_index(drop=True)\n",
    ")\n",
    "\n",
    "print(importances)\n"
   ]
  },
  {
   "cell_type": "code",
   "execution_count": null,
   "id": "ed745b5f-b0bb-49d1-b07a-2ce3c631c2b3",
   "metadata": {},
   "outputs": [],
   "source": []
  },
  {
   "cell_type": "code",
   "execution_count": null,
   "id": "fb533f5d",
   "metadata": {},
   "outputs": [
    {
     "ename": "KeyboardInterrupt",
     "evalue": "",
     "output_type": "error",
     "traceback": [
      "\u001b[31m---------------------------------------------------------------------------\u001b[39m",
      "\u001b[31mKeyboardInterrupt\u001b[39m                         Traceback (most recent call last)",
      "\u001b[36mCell\u001b[39m\u001b[36m \u001b[39m\u001b[32mIn[23]\u001b[39m\u001b[32m, line 3\u001b[39m\n\u001b[32m      1\u001b[39m desc = {}\n\u001b[32m----> \u001b[39m\u001b[32m3\u001b[39m \u001b[38;5;28;43;01mfor\u001b[39;49;00m\u001b[43m \u001b[49m\u001b[43mi\u001b[49m\u001b[43m,\u001b[49m\u001b[43m \u001b[49m\u001b[43mrow\u001b[49m\u001b[43m \u001b[49m\u001b[38;5;129;43;01min\u001b[39;49;00m\u001b[43m \u001b[49m\u001b[43mimportances\u001b[49m\u001b[43m.\u001b[49m\u001b[43miterrows\u001b[49m\u001b[43m(\u001b[49m\u001b[43m)\u001b[49m\u001b[43m:\u001b[49m\n\u001b[32m      4\u001b[39m \u001b[43m    \u001b[49m\u001b[38;5;28;43;01mif\u001b[39;49;00m\u001b[43m \u001b[49m\u001b[33;43m\"\u001b[39;49m\u001b[33;43mdesc_tfidf__\u001b[39;49m\u001b[33;43m\"\u001b[39;49m\u001b[43m \u001b[49m\u001b[38;5;129;43;01min\u001b[39;49;00m\u001b[43m \u001b[49m\u001b[43mrow\u001b[49m\u001b[43m[\u001b[49m\u001b[33;43m'\u001b[39;49m\u001b[33;43mfeature\u001b[39;49m\u001b[33;43m'\u001b[39;49m\u001b[43m]\u001b[49m\u001b[43m:\u001b[49m\n\u001b[32m      5\u001b[39m \u001b[43m        \u001b[49m\u001b[43mdesc\u001b[49m\u001b[43m[\u001b[49m\u001b[43mrow\u001b[49m\u001b[43m[\u001b[49m\u001b[33;43m'\u001b[39;49m\u001b[33;43mfeature\u001b[39;49m\u001b[33;43m'\u001b[39;49m\u001b[43m]\u001b[49m\u001b[43m.\u001b[49m\u001b[43mreplace\u001b[49m\u001b[43m(\u001b[49m\u001b[33;43m\"\u001b[39;49m\u001b[33;43mdesc_tfidf__\u001b[39;49m\u001b[33;43m\"\u001b[39;49m\u001b[43m,\u001b[49m\u001b[43m \u001b[49m\u001b[33;43m\"\u001b[39;49m\u001b[33;43m\"\u001b[39;49m\u001b[43m)\u001b[49m\u001b[43m]\u001b[49m\u001b[43m \u001b[49m\u001b[43m=\u001b[49m\u001b[43m \u001b[49m\u001b[43mrow\u001b[49m\u001b[43m[\u001b[49m\u001b[33;43m'\u001b[39;49m\u001b[33;43mimportance\u001b[39;49m\u001b[33;43m'\u001b[39;49m\u001b[43m]\u001b[49m\n",
      "\u001b[36mFile \u001b[39m\u001b[32m~/custkernel/lib/python3.11/site-packages/pandas/core/frame.py:1554\u001b[39m, in \u001b[36mDataFrame.iterrows\u001b[39m\u001b[34m(self)\u001b[39m\n\u001b[32m   1552\u001b[39m using_cow = using_copy_on_write()\n\u001b[32m   1553\u001b[39m \u001b[38;5;28;01mfor\u001b[39;00m k, v \u001b[38;5;129;01min\u001b[39;00m \u001b[38;5;28mzip\u001b[39m(\u001b[38;5;28mself\u001b[39m.index, \u001b[38;5;28mself\u001b[39m.values):\n\u001b[32m-> \u001b[39m\u001b[32m1554\u001b[39m     s = \u001b[43mklass\u001b[49m\u001b[43m(\u001b[49m\u001b[43mv\u001b[49m\u001b[43m,\u001b[49m\u001b[43m \u001b[49m\u001b[43mindex\u001b[49m\u001b[43m=\u001b[49m\u001b[43mcolumns\u001b[49m\u001b[43m,\u001b[49m\u001b[43m \u001b[49m\u001b[43mname\u001b[49m\u001b[43m=\u001b[49m\u001b[43mk\u001b[49m\u001b[43m)\u001b[49m.__finalize__(\u001b[38;5;28mself\u001b[39m)\n\u001b[32m   1555\u001b[39m     \u001b[38;5;28;01mif\u001b[39;00m using_cow \u001b[38;5;129;01mand\u001b[39;00m \u001b[38;5;28mself\u001b[39m._mgr.is_single_block:\n\u001b[32m   1556\u001b[39m         s._mgr.add_references(\u001b[38;5;28mself\u001b[39m._mgr)  \u001b[38;5;66;03m# type: ignore[arg-type]\u001b[39;00m\n",
      "\u001b[36mFile \u001b[39m\u001b[32m~/custkernel/lib/python3.11/site-packages/pandas/core/series.py:593\u001b[39m, in \u001b[36mSeries.__init__\u001b[39m\u001b[34m(self, data, index, dtype, name, copy, fastpath)\u001b[39m\n\u001b[32m    590\u001b[39m         data = SingleArrayManager.from_array(data, index)\n\u001b[32m    592\u001b[39m NDFrame.\u001b[34m__init__\u001b[39m(\u001b[38;5;28mself\u001b[39m, data)\n\u001b[32m--> \u001b[39m\u001b[32m593\u001b[39m \u001b[38;5;28;43mself\u001b[39;49m\u001b[43m.\u001b[49m\u001b[43mname\u001b[49m = name\n\u001b[32m    594\u001b[39m \u001b[38;5;28mself\u001b[39m._set_axis(\u001b[32m0\u001b[39m, index)\n\u001b[32m    596\u001b[39m \u001b[38;5;28;01mif\u001b[39;00m original_dtype \u001b[38;5;129;01mis\u001b[39;00m \u001b[38;5;28;01mNone\u001b[39;00m \u001b[38;5;129;01mand\u001b[39;00m is_pandas_object \u001b[38;5;129;01mand\u001b[39;00m data_dtype == np.object_:\n",
      "\u001b[36mFile \u001b[39m\u001b[32m~/custkernel/lib/python3.11/site-packages/pandas/core/generic.py:6320\u001b[39m, in \u001b[36mNDFrame.__setattr__\u001b[39m\u001b[34m(self, name, value)\u001b[39m\n\u001b[32m   6317\u001b[39m \u001b[38;5;66;03m# if this fails, go on to more involved attribute setting\u001b[39;00m\n\u001b[32m   6318\u001b[39m \u001b[38;5;66;03m# (note that this matches __getattr__, above).\u001b[39;00m\n\u001b[32m   6319\u001b[39m \u001b[38;5;28;01mif\u001b[39;00m name \u001b[38;5;129;01min\u001b[39;00m \u001b[38;5;28mself\u001b[39m._internal_names_set:\n\u001b[32m-> \u001b[39m\u001b[32m6320\u001b[39m     \u001b[38;5;28;43mobject\u001b[39;49m\u001b[43m.\u001b[49m\u001b[34;43m__setattr__\u001b[39;49m\u001b[43m(\u001b[49m\u001b[38;5;28;43mself\u001b[39;49m\u001b[43m,\u001b[49m\u001b[43m \u001b[49m\u001b[43mname\u001b[49m\u001b[43m,\u001b[49m\u001b[43m \u001b[49m\u001b[43mvalue\u001b[49m\u001b[43m)\u001b[49m\n\u001b[32m   6321\u001b[39m \u001b[38;5;28;01melif\u001b[39;00m name \u001b[38;5;129;01min\u001b[39;00m \u001b[38;5;28mself\u001b[39m._metadata:\n\u001b[32m   6322\u001b[39m     \u001b[38;5;28mobject\u001b[39m.\u001b[34m__setattr__\u001b[39m(\u001b[38;5;28mself\u001b[39m, name, value)\n",
      "\u001b[36mFile \u001b[39m\u001b[32m~/custkernel/lib/python3.11/site-packages/pandas/core/series.py:786\u001b[39m, in \u001b[36mSeries.name\u001b[39m\u001b[34m(self, value)\u001b[39m\n\u001b[32m    784\u001b[39m \u001b[38;5;129m@name\u001b[39m.setter\n\u001b[32m    785\u001b[39m \u001b[38;5;28;01mdef\u001b[39;00m\u001b[38;5;250m \u001b[39m\u001b[34mname\u001b[39m(\u001b[38;5;28mself\u001b[39m, value: Hashable) -> \u001b[38;5;28;01mNone\u001b[39;00m:\n\u001b[32m--> \u001b[39m\u001b[32m786\u001b[39m     \u001b[43mvalidate_all_hashable\u001b[49m\u001b[43m(\u001b[49m\u001b[43mvalue\u001b[49m\u001b[43m,\u001b[49m\u001b[43m \u001b[49m\u001b[43merror_name\u001b[49m\u001b[43m=\u001b[49m\u001b[33;43mf\u001b[39;49m\u001b[33;43m\"\u001b[39;49m\u001b[38;5;132;43;01m{\u001b[39;49;00m\u001b[38;5;28;43mtype\u001b[39;49m\u001b[43m(\u001b[49m\u001b[38;5;28;43mself\u001b[39;49m\u001b[43m)\u001b[49m\u001b[43m.\u001b[49m\u001b[34;43m__name__\u001b[39;49m\u001b[38;5;132;43;01m}\u001b[39;49;00m\u001b[33;43m.name\u001b[39;49m\u001b[33;43m\"\u001b[39;49m\u001b[43m)\u001b[49m\n\u001b[32m    787\u001b[39m     \u001b[38;5;28mobject\u001b[39m.\u001b[34m__setattr__\u001b[39m(\u001b[38;5;28mself\u001b[39m, \u001b[33m\"\u001b[39m\u001b[33m_name\u001b[39m\u001b[33m\"\u001b[39m, value)\n",
      "\u001b[36mFile \u001b[39m\u001b[32m~/custkernel/lib/python3.11/site-packages/pandas/core/dtypes/common.py:1590\u001b[39m, in \u001b[36mvalidate_all_hashable\u001b[39m\u001b[34m(error_name, *args)\u001b[39m\n\u001b[32m   1571\u001b[39m \u001b[38;5;28;01mdef\u001b[39;00m\u001b[38;5;250m \u001b[39m\u001b[34mvalidate_all_hashable\u001b[39m(*args, error_name: \u001b[38;5;28mstr\u001b[39m | \u001b[38;5;28;01mNone\u001b[39;00m = \u001b[38;5;28;01mNone\u001b[39;00m) -> \u001b[38;5;28;01mNone\u001b[39;00m:\n\u001b[32m   1572\u001b[39m \u001b[38;5;250m    \u001b[39m\u001b[33;03m\"\"\"\u001b[39;00m\n\u001b[32m   1573\u001b[39m \u001b[33;03m    Return None if all args are hashable, else raise a TypeError.\u001b[39;00m\n\u001b[32m   1574\u001b[39m \n\u001b[32m   (...)\u001b[39m\u001b[32m   1588\u001b[39m \u001b[33;03m    None\u001b[39;00m\n\u001b[32m   1589\u001b[39m \u001b[33;03m    \"\"\"\u001b[39;00m\n\u001b[32m-> \u001b[39m\u001b[32m1590\u001b[39m     \u001b[38;5;28;01mif\u001b[39;00m \u001b[38;5;129;01mnot\u001b[39;00m \u001b[38;5;28mall\u001b[39m(is_hashable(arg) \u001b[38;5;28;01mfor\u001b[39;00m arg \u001b[38;5;129;01min\u001b[39;00m args):\n\u001b[32m   1591\u001b[39m         \u001b[38;5;28;01mif\u001b[39;00m error_name:\n\u001b[32m   1592\u001b[39m             \u001b[38;5;28;01mraise\u001b[39;00m \u001b[38;5;167;01mTypeError\u001b[39;00m(\u001b[33mf\u001b[39m\u001b[33m\"\u001b[39m\u001b[38;5;132;01m{\u001b[39;00merror_name\u001b[38;5;132;01m}\u001b[39;00m\u001b[33m must be a hashable type\u001b[39m\u001b[33m\"\u001b[39m)\n",
      "\u001b[36mFile \u001b[39m\u001b[32m~/custkernel/lib/python3.11/site-packages/pandas/core/dtypes/common.py:1590\u001b[39m, in \u001b[36m<genexpr>\u001b[39m\u001b[34m(.0)\u001b[39m\n\u001b[32m   1571\u001b[39m \u001b[38;5;28;01mdef\u001b[39;00m\u001b[38;5;250m \u001b[39m\u001b[34mvalidate_all_hashable\u001b[39m(*args, error_name: \u001b[38;5;28mstr\u001b[39m | \u001b[38;5;28;01mNone\u001b[39;00m = \u001b[38;5;28;01mNone\u001b[39;00m) -> \u001b[38;5;28;01mNone\u001b[39;00m:\n\u001b[32m   1572\u001b[39m \u001b[38;5;250m    \u001b[39m\u001b[33;03m\"\"\"\u001b[39;00m\n\u001b[32m   1573\u001b[39m \u001b[33;03m    Return None if all args are hashable, else raise a TypeError.\u001b[39;00m\n\u001b[32m   1574\u001b[39m \n\u001b[32m   (...)\u001b[39m\u001b[32m   1588\u001b[39m \u001b[33;03m    None\u001b[39;00m\n\u001b[32m   1589\u001b[39m \u001b[33;03m    \"\"\"\u001b[39;00m\n\u001b[32m-> \u001b[39m\u001b[32m1590\u001b[39m     \u001b[38;5;28;01mif\u001b[39;00m \u001b[38;5;129;01mnot\u001b[39;00m \u001b[38;5;28mall\u001b[39m(\u001b[43mis_hashable\u001b[49m\u001b[43m(\u001b[49m\u001b[43marg\u001b[49m\u001b[43m)\u001b[49m \u001b[38;5;28;01mfor\u001b[39;00m arg \u001b[38;5;129;01min\u001b[39;00m args):\n\u001b[32m   1591\u001b[39m         \u001b[38;5;28;01mif\u001b[39;00m error_name:\n\u001b[32m   1592\u001b[39m             \u001b[38;5;28;01mraise\u001b[39;00m \u001b[38;5;167;01mTypeError\u001b[39;00m(\u001b[33mf\u001b[39m\u001b[33m\"\u001b[39m\u001b[38;5;132;01m{\u001b[39;00merror_name\u001b[38;5;132;01m}\u001b[39;00m\u001b[33m must be a hashable type\u001b[39m\u001b[33m\"\u001b[39m)\n",
      "\u001b[36mFile \u001b[39m\u001b[32m~/custkernel/lib/python3.11/site-packages/pandas/core/dtypes/inference.py:334\u001b[39m, in \u001b[36mis_hashable\u001b[39m\u001b[34m(obj)\u001b[39m\n\u001b[32m    307\u001b[39m \u001b[38;5;250m    \u001b[39m\u001b[33;03m\"\"\"\u001b[39;00m\n\u001b[32m    308\u001b[39m \u001b[33;03m    Check if the object is a named tuple.\u001b[39;00m\n\u001b[32m    309\u001b[39m \n\u001b[32m   (...)\u001b[39m\u001b[32m    329\u001b[39m \u001b[33;03m    False\u001b[39;00m\n\u001b[32m    330\u001b[39m \u001b[33;03m    \"\"\"\u001b[39;00m\n\u001b[32m    331\u001b[39m     \u001b[38;5;28;01mreturn\u001b[39;00m \u001b[38;5;28misinstance\u001b[39m(obj, abc.Sequence) \u001b[38;5;129;01mand\u001b[39;00m \u001b[38;5;28mhasattr\u001b[39m(obj, \u001b[33m\"\u001b[39m\u001b[33m_fields\u001b[39m\u001b[33m\"\u001b[39m)\n\u001b[32m--> \u001b[39m\u001b[32m334\u001b[39m \u001b[38;5;28;01mdef\u001b[39;00m\u001b[38;5;250m \u001b[39m\u001b[34mis_hashable\u001b[39m(obj) -> TypeGuard[Hashable]:\n\u001b[32m    335\u001b[39m \u001b[38;5;250m    \u001b[39m\u001b[33;03m\"\"\"\u001b[39;00m\n\u001b[32m    336\u001b[39m \u001b[33;03m    Return True if hash(obj) will succeed, False otherwise.\u001b[39;00m\n\u001b[32m    337\u001b[39m \n\u001b[32m   (...)\u001b[39m\u001b[32m    356\u001b[39m \u001b[33;03m    False\u001b[39;00m\n\u001b[32m    357\u001b[39m \u001b[33;03m    \"\"\"\u001b[39;00m\n\u001b[32m    358\u001b[39m     \u001b[38;5;66;03m# Unfortunately, we can't use isinstance(obj, collections.abc.Hashable),\u001b[39;00m\n\u001b[32m    359\u001b[39m     \u001b[38;5;66;03m# which can be faster than calling hash. That is because numpy scalars\u001b[39;00m\n\u001b[32m    360\u001b[39m     \u001b[38;5;66;03m# fail this test.\u001b[39;00m\n\u001b[32m    361\u001b[39m \n\u001b[32m    362\u001b[39m     \u001b[38;5;66;03m# Reconsider this decision once this numpy bug is fixed:\u001b[39;00m\n\u001b[32m    363\u001b[39m     \u001b[38;5;66;03m# https://github.com/numpy/numpy/issues/5562\u001b[39;00m\n",
      "\u001b[31mKeyboardInterrupt\u001b[39m: "
     ]
    }
   ],
   "source": [
    "desc = {}\n",
    "\n",
    "for i, row in importances.iterrows():\n",
    "    if \"desc_tfidf__\" in row['feature']:\n",
    "        desc[row['feature'].replace(\"desc_tfidf__\", \"\")] = row['importance']\n",
    "    else:\n",
    "        pass\n",
    "\n",
    "cloud = WordCloud(background_color=\"white\",\n",
    "    width=1000,\n",
    "    height=1000,\n",
    "    max_words=20,\n",
    "    relative_scaling=1,\n",
    "    colormap='viridis',\n",
    "    normalize_plurals=False).generate_from_frequencies(desc)\n",
    "\n",
    "plt.imshow(cloud)"
   ]
  },
  {
   "cell_type": "code",
   "execution_count": null,
   "id": "e51e0599",
   "metadata": {},
   "outputs": [],
   "source": [
    "# from MLstatkit.stats import Delong_test\n",
    "\n",
    "\n",
    "y_test = df_sep['fraudulent']\n",
    "y_probS = best_model_S.predict_proba(df_sep)[:, 1]\n",
    "y_probC = best_model_C.predict_proba(df_concat)[:, 1]"
   ]
  },
  {
   "cell_type": "code",
   "execution_count": null,
   "id": "0e275db7",
   "metadata": {},
   "outputs": [],
   "source": [
    "z_score, p_value = Delong_test(y_test, y_probC, y_probS)\n",
    "\n",
    "print(f\"z-score: {z_score}, P-Value: {p_value}\")"
   ]
  },
  {
   "cell_type": "code",
   "execution_count": null,
   "id": "d67f9288-f680-4723-afc8-db59bbec64fc",
   "metadata": {},
   "outputs": [],
   "source": [
    "import scipy.stats as spc"
   ]
  },
  {
   "cell_type": "code",
   "execution_count": null,
   "id": "9db10e76-4e9b-45ab-a6a0-881ecb3518d5",
   "metadata": {},
   "outputs": [
    {
     "data": {
      "text/plain": [
       "TtestResult(statistic=np.float64(4.77671692025102), pvalue=np.float64(1.795936929111992e-06), df=np.int64(17879))"
      ]
     },
     "execution_count": 27,
     "metadata": {},
     "output_type": "execute_result"
    }
   ],
   "source": [
    "spc.ttest_rel(y_probC, y_probS)"
   ]
  },
  {
   "cell_type": "code",
   "execution_count": null,
   "id": "27a5b427-cc6b-4f8b-842a-ab4dbf76bf67",
   "metadata": {},
   "outputs": [
    {
     "data": {
      "text/plain": [
       "TtestResult(statistic=np.float64(0.8178494287972955), pvalue=np.float64(0.4134486193262772), df=np.float64(35758.0))"
      ]
     },
     "execution_count": 28,
     "metadata": {},
     "output_type": "execute_result"
    }
   ],
   "source": [
    "spc.ttest_ind(y_probC, y_probS)"
   ]
  },
  {
   "cell_type": "code",
   "execution_count": null,
   "id": "5f0f82fa-1081-4254-86fa-60a081fb6063",
   "metadata": {},
   "outputs": [
    {
     "data": {
      "text/plain": [
       "np.float64(0.052930549635273404)"
      ]
     },
     "execution_count": 39,
     "metadata": {},
     "output_type": "execute_result"
    }
   ],
   "source": [
    "sum(y_probC)/len(y_probC)"
   ]
  },
  {
   "cell_type": "code",
   "execution_count": null,
   "id": "3c801926-8451-4387-86e2-82b671432b0e",
   "metadata": {},
   "outputs": [
    {
     "data": {
      "text/plain": [
       "np.float64(0.051112831081838124)"
      ]
     },
     "execution_count": 40,
     "metadata": {},
     "output_type": "execute_result"
    }
   ],
   "source": [
    "sum(y_probS)/len(y_probS)"
   ]
  },
  {
   "cell_type": "code",
   "execution_count": null,
   "id": "b911866c-13be-4121-9ff5-e4e12d1a5baf",
   "metadata": {},
   "outputs": [
    {
     "name": "stdout",
     "output_type": "stream",
     "text": [
      "Training set: (14304, 10)\n",
      "Testing set: (3576, 10)\n"
     ]
    }
   ],
   "source": [
    "# Features and target\n",
    "X = df_sep.drop('fraudulent', axis=1)\n",
    "y = df_sep['fraudulent']\n",
    "\n",
    "# Train-test split\n",
    "X_train1, X_test1, y_train1, y_test1 = train_test_split(X, y, stratify=y, test_size=0.2, random_state=42)\n",
    "\n",
    "print(\"Training set:\", X_train.shape)\n",
    "print(\"Testing set:\", X_test.shape)"
   ]
  },
  {
   "cell_type": "code",
   "execution_count": null,
   "id": "a3170e20-38fe-47e8-9311-689ebff5df73",
   "metadata": {},
   "outputs": [
    {
     "name": "stdout",
     "output_type": "stream",
     "text": [
      "Training set: (14304, 10)\n",
      "Testing set: (3576, 10)\n"
     ]
    }
   ],
   "source": [
    "# Features and target\n",
    "X = df_concat.drop('fraudulent', axis=1)\n",
    "y = df_sep['fraudulent']\n",
    "\n",
    "# Train-test split\n",
    "X_train2, X_test2, y_train2, y_test2 = train_test_split(X, y, stratify=y, test_size=0.2, random_state=1)\n",
    "print(\"Training set:\", X_train.shape)\n",
    "print(\"Testing set:\", X_test.shape)"
   ]
  },
  {
   "cell_type": "code",
   "execution_count": null,
   "id": "d6eb0fcc-caf6-47a2-b5ac-9cb37c347d69",
   "metadata": {},
   "outputs": [
    {
     "name": "stdout",
     "output_type": "stream",
     "text": [
      "False\n"
     ]
    }
   ],
   "source": [
    "print(y_test1 is y_test2)"
   ]
  },
  {
   "cell_type": "code",
   "execution_count": null,
   "id": "b773b27a-1ee7-4d19-b16d-7b55639914d3",
   "metadata": {},
   "outputs": [],
   "source": []
  }
 ],
 "metadata": {
  "kernelspec": {
   "display_name": "custkernel",
   "language": "python",
   "name": "python3"
  },
  "language_info": {
   "codemirror_mode": {
    "name": "ipython",
    "version": 3
   },
   "file_extension": ".py",
   "mimetype": "text/x-python",
   "name": "python",
   "nbconvert_exporter": "python",
   "pygments_lexer": "ipython3",
   "version": "3.12.4"
  }
 },
 "nbformat": 4,
 "nbformat_minor": 5
}
